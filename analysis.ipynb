{
 "cells": [
  {
   "cell_type": "code",
   "metadata": {
    "ExecuteTime": {
     "end_time": "2025-06-30T00:20:35.501758Z",
     "start_time": "2025-06-30T00:20:35.497411Z"
    }
   },
   "source": [
    "import pandas as pd \n",
    "import numpy as np\n",
    "\n",
    "import seaborn as sns\n",
    "import matplotlib.pyplot as plt"
   ],
   "outputs": [],
   "execution_count": 3
  },
  {
   "metadata": {
    "ExecuteTime": {
     "end_time": "2025-06-30T00:20:37.693410Z",
     "start_time": "2025-06-30T00:20:37.664323Z"
    }
   },
   "cell_type": "code",
   "source": [
    "# import meals data\n",
    "meals = pd.read_csv(\"backend/data/meal_history.csv\")\n",
    "meals.head()"
   ],
   "outputs": [
    {
     "data": {
      "text/plain": [
       "      Date TypeOfMeal                    DishName  Calories  Protein  Fruits  \\\n",
       "0  6/24/25  Breakfast                       Milk        149      0.0     0.0   \n",
       "1  6/24/25  Breakfast  Sweet potato hash with egg       300      2.5     0.0   \n",
       "2  6/24/25      Lunch          chicken fried rice       340      1.5     0.0   \n",
       "3  6/24/25     Dinner                  Fish tacos       220      2.0     0.0   \n",
       "4  6/24/25      Snack         Very berry smoothie       250      0.0     2.5   \n",
       "\n",
       "   Vegetables  Grains  Dairy  \\\n",
       "0        0.00     0.0    1.0   \n",
       "1        1.00     0.0    0.0   \n",
       "2        0.25     2.0    0.0   \n",
       "3        0.75     2.0    0.0   \n",
       "4        0.00     0.0    1.0   \n",
       "\n",
       "                                                Link  \n",
       "0                                                NaN  \n",
       "1  https://www.myplate.gov/recipes/sweet-potato-h...  \n",
       "2         https://www.myplate.gov/recipes/fried-rice  \n",
       "3  https://www.myplate.gov/recipes/simple-fish-tacos  \n",
       "4  https://www.myplate.gov/recipes/very-berry-smo...  "
      ],
      "text/html": [
       "<div>\n",
       "<style scoped>\n",
       "    .dataframe tbody tr th:only-of-type {\n",
       "        vertical-align: middle;\n",
       "    }\n",
       "\n",
       "    .dataframe tbody tr th {\n",
       "        vertical-align: top;\n",
       "    }\n",
       "\n",
       "    .dataframe thead th {\n",
       "        text-align: right;\n",
       "    }\n",
       "</style>\n",
       "<table border=\"1\" class=\"dataframe\">\n",
       "  <thead>\n",
       "    <tr style=\"text-align: right;\">\n",
       "      <th></th>\n",
       "      <th>Date</th>\n",
       "      <th>TypeOfMeal</th>\n",
       "      <th>DishName</th>\n",
       "      <th>Calories</th>\n",
       "      <th>Protein</th>\n",
       "      <th>Fruits</th>\n",
       "      <th>Vegetables</th>\n",
       "      <th>Grains</th>\n",
       "      <th>Dairy</th>\n",
       "      <th>Link</th>\n",
       "    </tr>\n",
       "  </thead>\n",
       "  <tbody>\n",
       "    <tr>\n",
       "      <th>0</th>\n",
       "      <td>6/24/25</td>\n",
       "      <td>Breakfast</td>\n",
       "      <td>Milk</td>\n",
       "      <td>149</td>\n",
       "      <td>0.0</td>\n",
       "      <td>0.0</td>\n",
       "      <td>0.00</td>\n",
       "      <td>0.0</td>\n",
       "      <td>1.0</td>\n",
       "      <td>NaN</td>\n",
       "    </tr>\n",
       "    <tr>\n",
       "      <th>1</th>\n",
       "      <td>6/24/25</td>\n",
       "      <td>Breakfast</td>\n",
       "      <td>Sweet potato hash with egg</td>\n",
       "      <td>300</td>\n",
       "      <td>2.5</td>\n",
       "      <td>0.0</td>\n",
       "      <td>1.00</td>\n",
       "      <td>0.0</td>\n",
       "      <td>0.0</td>\n",
       "      <td>https://www.myplate.gov/recipes/sweet-potato-h...</td>\n",
       "    </tr>\n",
       "    <tr>\n",
       "      <th>2</th>\n",
       "      <td>6/24/25</td>\n",
       "      <td>Lunch</td>\n",
       "      <td>chicken fried rice</td>\n",
       "      <td>340</td>\n",
       "      <td>1.5</td>\n",
       "      <td>0.0</td>\n",
       "      <td>0.25</td>\n",
       "      <td>2.0</td>\n",
       "      <td>0.0</td>\n",
       "      <td>https://www.myplate.gov/recipes/fried-rice</td>\n",
       "    </tr>\n",
       "    <tr>\n",
       "      <th>3</th>\n",
       "      <td>6/24/25</td>\n",
       "      <td>Dinner</td>\n",
       "      <td>Fish tacos</td>\n",
       "      <td>220</td>\n",
       "      <td>2.0</td>\n",
       "      <td>0.0</td>\n",
       "      <td>0.75</td>\n",
       "      <td>2.0</td>\n",
       "      <td>0.0</td>\n",
       "      <td>https://www.myplate.gov/recipes/simple-fish-tacos</td>\n",
       "    </tr>\n",
       "    <tr>\n",
       "      <th>4</th>\n",
       "      <td>6/24/25</td>\n",
       "      <td>Snack</td>\n",
       "      <td>Very berry smoothie</td>\n",
       "      <td>250</td>\n",
       "      <td>0.0</td>\n",
       "      <td>2.5</td>\n",
       "      <td>0.00</td>\n",
       "      <td>0.0</td>\n",
       "      <td>1.0</td>\n",
       "      <td>https://www.myplate.gov/recipes/very-berry-smo...</td>\n",
       "    </tr>\n",
       "  </tbody>\n",
       "</table>\n",
       "</div>"
      ]
     },
     "execution_count": 4,
     "metadata": {},
     "output_type": "execute_result"
    }
   ],
   "execution_count": 4
  },
  {
   "metadata": {},
   "cell_type": "code",
   "outputs": [],
   "execution_count": null,
   "source": [
    "#group by date, display protein, fruits, vegetables, grain, dairy\n",
    "#line graph of total calories by day. \n"
   ]
  }
 ],
 "metadata": {
  "kernelspec": {
   "display_name": "ds",
   "language": "python",
   "name": "python3"
  },
  "language_info": {
   "codemirror_mode": {
    "name": "ipython",
    "version": 3
   },
   "file_extension": ".py",
   "mimetype": "text/x-python",
   "name": "python",
   "nbconvert_exporter": "python",
   "pygments_lexer": "ipython3",
   "version": "3.12.9"
  }
 },
 "nbformat": 4,
 "nbformat_minor": 2
}
